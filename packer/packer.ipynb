{
  "nbformat": 4,
  "nbformat_minor": 0,
  "metadata": {
    "colab": {
      "name": "packer.ipynb",
      "version": "0.3.2",
      "provenance": []
    },
    "kernelspec": {
      "name": "python3",
      "display_name": "Python 3"
    }
  },
  "cells": [
    {
      "metadata": {
        "id": "9HO29E8_bVOr",
        "colab_type": "text"
      },
      "cell_type": "markdown",
      "source": [
        "## Install"
      ]
    },
    {
      "metadata": {
        "id": "A8--iYXXbC4K",
        "colab_type": "code",
        "colab": {}
      },
      "cell_type": "code",
      "source": [
        "!wget https://releases.hashicorp.com/packer/1.2.4/packer_1.2.4_linux_amd64.zip"
      ],
      "execution_count": 0,
      "outputs": []
    },
    {
      "metadata": {
        "id": "xtqISrCybesT",
        "colab_type": "text"
      },
      "cell_type": "markdown",
      "source": [
        "## Packer Terminology"
      ]
    },
    {
      "metadata": {
        "id": "QpDK9JjvbcQZ",
        "colab_type": "text"
      },
      "cell_type": "markdown",
      "source": [
        "There are a handful of terms used throughout the Packer documentation where the meaning may not be immediately obvious if you haven't used Packer before. Luckily, there are relatively few. This page documents all the terminology required to understand and use Packer. The terminology is in alphabetical order for quick referencing.\n",
        "\n",
        "Artifacts are the results of a single build, and are usually a set of IDs or files to represent a machine image. Every builder produces a single artifact. As an example, in the case of the Amazon EC2 builder, the artifact is a set of AMI IDs (one per region). For the VMware builder, the artifact is a directory of files comprising the created virtual machine.\n",
        "\n",
        "Builds are a single task that eventually produces an image for a single platform. Multiple builds run in parallel. Example usage in a sentence: \"The Packer build produced an AMI to run our web application.\" Or: \"Packer is running the builds now for VMware, AWS, and VirtualBox.\"\n",
        "\n",
        "Builders are components of Packer that are able to create a machine image for a single platform. Builders read in some configuration and use that to run and generate a machine image. A builder is invoked as part of a build in order to create the actual resulting images. Example builders include VirtualBox, VMware, and Amazon EC2. Builders can be created and added to Packer in the form of plugins.\n",
        "\n",
        "Commands are sub-commands for the packer program that perform some job. An example command is \"build\", which is invoked as packer build. Packer ships with a set of commands out of the box in order to define its command-line interface.\n",
        "\n",
        "Post-processors are components of Packer that take the result of a builder or another post-processor and process that to create a new artifact. Examples of post-processors are compress to compress artifacts, upload to upload artifacts, etc.\n",
        "\n",
        "Provisioners are components of Packer that install and configure software within a running machine prior to that machine being turned into a static image. They perform the major work of making the image contain useful software. Example provisioners include shell scripts, Chef, Puppet, etc.\n",
        "\n",
        "Templates are JSON files which define one or more builds by configuring the various components of Packer. Packer is able to read a template and use that information to create multiple machine images in parallel."
      ]
    },
    {
      "metadata": {
        "id": "gk8AqVEsbl9I",
        "colab_type": "text"
      },
      "cell_type": "markdown",
      "source": [
        "## Build"
      ]
    },
    {
      "metadata": {
        "id": "BBMxk-Euby4O",
        "colab_type": "text"
      },
      "cell_type": "markdown",
      "source": [
        "## Templates"
      ]
    },
    {
      "metadata": {
        "id": "NcUO33A0cM_r",
        "colab_type": "text"
      },
      "cell_type": "markdown",
      "source": [
        "### Structure"
      ]
    },
    {
      "metadata": {
        "id": "sRRpgA2DcLYK",
        "colab_type": "text"
      },
      "cell_type": "markdown",
      "source": [
        "Template Structure\n",
        "A template is a JSON object that has a set of keys configuring various components of Packer. The available keys within a template are listed below. Along with each key, it is noted whether it is required or not.\n",
        "\n",
        "builders (required) is an array of one or more objects that defines the builders that will be used to create machine images for this template, and configures each of those builders. For more information on how to define and configure a builder, read the sub-section on configuring builders in templates.\n",
        "\n",
        "description (optional) is a string providing a description of what the template does. This output is used only in the inspect command.\n",
        "\n",
        "min_packer_version (optional) is a string that has a minimum Packer version that is required to parse the template. This can be used to ensure that proper versions of Packer are used with the template. A max version can't be specified because Packer retains backwards compatibility with packer fix.\n",
        "\n",
        "post-processors (optional) is an array of one or more objects that defines the various post-processing steps to take with the built images. If not specified, then no post-processing will be done. For more information on what post-processors do and how they're defined, read the sub-section on configuring post-processors in templates.\n",
        "\n",
        "provisioners (optional) is an array of one or more objects that defines the provisioners that will be used to install and configure software for the machines created by each of the builders. If it is not specified, then no provisioners will be run. For more information on how to define and configure a provisioner, read the sub-section on configuring provisioners in templates.\n",
        "\n",
        "variables (optional) is an object of one or more key/value strings that defines user variables contained in the template. If it is not specified, then no variables are defined. For more information on how to define and use user variables, read the sub-section on user variables in templates."
      ]
    },
    {
      "metadata": {
        "id": "kCSzMW4YcC0T",
        "colab_type": "text"
      },
      "cell_type": "markdown",
      "source": [
        "### Example\n",
        "Below is an example of a basic template that could be invoked with packer build. It would create an instance in AWS, and once running copy a script to it and run that script using SSH.\n",
        "\n",
        "Note: This example requires an account with Amazon Web Services. There are a number of parameters which need to be provided for a functional build to take place. See the Amazon builder documentation for more information."
      ]
    },
    {
      "metadata": {
        "id": "S8PZ3i3IbUiW",
        "colab_type": "code",
        "colab": {
          "base_uri": "https://localhost:8080/",
          "height": 35
        },
        "outputId": "58d7ecd0-93da-4560-8c7c-5f17c12d259d"
      },
      "cell_type": "code",
      "source": [
        "%%writefile packer.json\n",
        "{\n",
        "  \"builders\": [\n",
        "    {\n",
        "      \"type\": \"amazon-ebs\",\n",
        "      \"access_key\": \"...\",\n",
        "      \"secret_key\": \"...\",\n",
        "      \"region\": \"us-east-1\",\n",
        "      \"source_ami\": \"ami-fce3c696\",\n",
        "      \"instance_type\": \"t2.micro\",\n",
        "      \"ssh_username\": \"ubuntu\",\n",
        "      \"ami_name\": \"packer {{timestamp}}\"\n",
        "    }\n",
        "  ],\n",
        "\n",
        "  \"provisioners\": [\n",
        "    {\n",
        "      \"type\": \"shell\",\n",
        "      \"script\": \"setup_things.sh\"\n",
        "    }\n",
        "  ]\n",
        "}"
      ],
      "execution_count": 1,
      "outputs": [
        {
          "output_type": "stream",
          "text": [
            "Writing packer.json\n"
          ],
          "name": "stdout"
        }
      ]
    }
  ]
}