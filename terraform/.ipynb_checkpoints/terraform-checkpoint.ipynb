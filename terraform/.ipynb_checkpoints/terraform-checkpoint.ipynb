{
 "cells": [
  {
   "cell_type": "markdown",
   "metadata": {
    "colab_type": "text",
    "id": "0FG5YUgsjj5a"
   },
   "source": [
    "# Installation"
   ]
  },
  {
   "cell_type": "code",
   "execution_count": 1,
   "metadata": {
    "colab": {
     "base_uri": "https://localhost:8080/",
     "height": 235
    },
    "colab_type": "code",
    "id": "NbaokOUsg8nR",
    "outputId": "87e75d11-bf61-498e-d773-36e8ade10fb6"
   },
   "outputs": [
    {
     "name": "stdout",
     "output_type": "stream",
     "text": [
      "--2018-06-16 03:01:47--  https://releases.hashicorp.com/terraform/0.11.7/terraform_0.11.7_linux_amd64.zip\n",
      "Resolving releases.hashicorp.com (releases.hashicorp.com)... 151.101.1.183, 151.101.65.183, 151.101.129.183, ...\n",
      "Connecting to releases.hashicorp.com (releases.hashicorp.com)|151.101.1.183|:443... connected.\n",
      "HTTP request sent, awaiting response... 200 OK\n",
      "Length: 16490308 (16M) [application/zip]\n",
      "Saving to: ‘terraform_0.11.7_linux_amd64.zip’\n",
      "\n",
      "terraform_0.11.7_li 100%[===================>]  15.73M  31.3MB/s    in 0.5s    \n",
      "\n",
      "2018-06-16 03:01:47 (31.3 MB/s) - ‘terraform_0.11.7_linux_amd64.zip’ saved [16490308/16490308]\n",
      "\n"
     ]
    }
   ],
   "source": [
    "!wget https://releases.hashicorp.com/terraform/0.11.7/terraform_0.11.7_linux_amd64.zip"
   ]
  },
  {
   "cell_type": "markdown",
   "metadata": {
    "colab_type": "text",
    "id": "CXbH59zwjoP5"
   },
   "source": [
    "## Unzip"
   ]
  },
  {
   "cell_type": "code",
   "execution_count": 5,
   "metadata": {
    "colab": {
     "base_uri": "https://localhost:8080/",
     "height": 53
    },
    "colab_type": "code",
    "id": "2sSXPgU6ipSL",
    "outputId": "acd5a801-bf00-47c8-95a8-c4b65d5df2e3"
   },
   "outputs": [
    {
     "name": "stdout",
     "output_type": "stream",
     "text": [
      "Archive:  terraform_0.11.7_linux_amd64.zip\n",
      "  inflating: /usr/local/bin/terraform  \n"
     ]
    }
   ],
   "source": [
    "!unzip terraform_0.11.7_linux_amd64.zip -d /usr/local/bin"
   ]
  },
  {
   "cell_type": "markdown",
   "metadata": {
    "colab_type": "text",
    "id": "nIp6aFOujrTn"
   },
   "source": [
    "## Check CLI"
   ]
  },
  {
   "cell_type": "code",
   "execution_count": 6,
   "metadata": {
    "colab": {
     "base_uri": "https://localhost:8080/",
     "height": 629
    },
    "colab_type": "code",
    "id": "5kdLVoZQjb4G",
    "outputId": "c2bb5cde-02c4-461e-aaaa-bc018de1bfa3"
   },
   "outputs": [
    {
     "name": "stdout",
     "output_type": "stream",
     "text": [
      "Usage: terraform [--version] [--help] <command> [args]\r\n",
      "\r\n",
      "The available commands for execution are listed below.\r\n",
      "The most common, useful commands are shown first, followed by\r\n",
      "less common or more advanced commands. If you're just getting\r\n",
      "started with Terraform, stick with the common commands. For the\r\n",
      "other commands, please read the help and docs before usage.\r\n",
      "\r\n",
      "Common commands:\r\n",
      "    apply              Builds or changes infrastructure\r\n",
      "    console            Interactive console for Terraform interpolations\r\n",
      "    destroy            Destroy Terraform-managed infrastructure\r\n",
      "    env                Workspace management\r\n",
      "    fmt                Rewrites config files to canonical format\r\n",
      "    get                Download and install modules for the configuration\r\n",
      "    graph              Create a visual graph of Terraform resources\r\n",
      "    import             Import existing infrastructure into Terraform\r\n",
      "    init               Initialize a Terraform working directory\r\n",
      "    output             Read an output from a state file\r\n",
      "    plan               Generate and show an execution plan\r\n",
      "    providers          Prints a tree of the providers used in the configuration\r\n",
      "    push               Upload this Terraform module to Atlas to run\r\n",
      "    refresh            Update local state file against real resources\r\n",
      "    show               Inspect Terraform state or plan\r\n",
      "    taint              Manually mark a resource for recreation\r\n",
      "    untaint            Manually unmark a resource as tainted\r\n",
      "    validate           Validates the Terraform files\r\n",
      "    version            Prints the Terraform version\r\n",
      "    workspace          Workspace management\r\n",
      "\r\n",
      "All other commands:\r\n",
      "    debug              Debug output management (experimental)\r\n",
      "    force-unlock       Manually unlock the terraform state\r\n",
      "    state              Advanced state management\r\n"
     ]
    }
   ],
   "source": [
    "!terraform"
   ]
  },
  {
   "cell_type": "markdown",
   "metadata": {
    "colab_type": "text",
    "id": "sGXrqXM4j7HX"
   },
   "source": [
    "# Configuration"
   ]
  },
  {
   "cell_type": "code",
   "execution_count": 8,
   "metadata": {
    "colab": {
     "base_uri": "https://localhost:8080/",
     "height": 451
    },
    "colab_type": "code",
    "id": "TOhd9DuEj6a4",
    "outputId": "6073f760-664d-41e7-bbfc-dfb53ba6896f"
   },
   "outputs": [
    {
     "name": "stdout",
     "output_type": "stream",
     "text": [
      "Collecting awscli\n",
      "\u001b[?25l  Downloading https://files.pythonhosted.org/packages/b3/0e/8b55f31cbe931cf2f59f85f1c6a2a2ba47933ae9c4778339f5628d46224d/awscli-1.15.40-py2.py3-none-any.whl (1.3MB)\n",
      "\u001b[K    100% |████████████████████████████████| 1.3MB 4.4MB/s \n",
      "\u001b[?25hRequirement not upgraded as not directly required: rsa<=3.5.0,>=3.1.2 in /usr/local/lib/python3.6/dist-packages (from awscli) (3.4.2)\n",
      "Collecting s3transfer<0.2.0,>=0.1.12 (from awscli)\n",
      "\u001b[?25l  Downloading https://files.pythonhosted.org/packages/d7/14/2a0004d487464d120c9fb85313a75cd3d71a7506955be458eebfe19a6b1d/s3transfer-0.1.13-py2.py3-none-any.whl (59kB)\n",
      "\u001b[K    100% |████████████████████████████████| 61kB 12.8MB/s \n",
      "\u001b[?25hCollecting docutils>=0.10 (from awscli)\n",
      "\u001b[?25l  Downloading https://files.pythonhosted.org/packages/36/fa/08e9e6e0e3cbd1d362c3bbee8d01d0aedb2155c4ac112b19ef3cae8eed8d/docutils-0.14-py3-none-any.whl (543kB)\n",
      "\u001b[K    100% |████████████████████████████████| 552kB 10.4MB/s \n",
      "\u001b[?25hRequirement not upgraded as not directly required: PyYAML<=3.12,>=3.10 in /usr/local/lib/python3.6/dist-packages (from awscli) (3.12)\n",
      "Collecting botocore==1.10.40 (from awscli)\n",
      "\u001b[?25l  Downloading https://files.pythonhosted.org/packages/fe/6f/e9c3981f8b7e93bfa4461b754563b0e917968947920d0bdcf2a7dcf77da2/botocore-1.10.40-py2.py3-none-any.whl (4.3MB)\n",
      "\u001b[K    100% |████████████████████████████████| 4.3MB 7.3MB/s \n",
      "\u001b[?25hCollecting colorama<=0.3.9,>=0.2.5 (from awscli)\n",
      "  Downloading https://files.pythonhosted.org/packages/db/c8/7dcf9dbcb22429512708fe3a547f8b6101c0d02137acbd892505aee57adf/colorama-0.3.9-py2.py3-none-any.whl\n",
      "Requirement not upgraded as not directly required: pyasn1>=0.1.3 in /usr/local/lib/python3.6/dist-packages (from rsa<=3.5.0,>=3.1.2->awscli) (0.4.2)\n",
      "Requirement not upgraded as not directly required: python-dateutil<3.0.0,>=2.1; python_version >= \"2.7\" in /usr/local/lib/python3.6/dist-packages (from botocore==1.10.40->awscli) (2.5.3)\n",
      "Collecting jmespath<1.0.0,>=0.7.1 (from botocore==1.10.40->awscli)\n",
      "  Downloading https://files.pythonhosted.org/packages/b7/31/05c8d001f7f87f0f07289a5fc0fc3832e9a57f2dbd4d3b0fee70e0d51365/jmespath-0.9.3-py2.py3-none-any.whl\n",
      "Requirement not upgraded as not directly required: six>=1.5 in /usr/local/lib/python3.6/dist-packages (from python-dateutil<3.0.0,>=2.1; python_version >= \"2.7\"->botocore==1.10.40->awscli) (1.11.0)\n",
      "Installing collected packages: docutils, jmespath, botocore, s3transfer, colorama, awscli\n",
      "Successfully installed awscli-1.15.40 botocore-1.10.40 colorama-0.3.9 docutils-0.14 jmespath-0.9.3 s3transfer-0.1.13\n"
     ]
    }
   ],
   "source": [
    "!pip install awscli --upgrade"
   ]
  },
  {
   "cell_type": "code",
   "execution_count": 14,
   "metadata": {
    "colab": {
     "base_uri": "https://localhost:8080/",
     "height": 35
    },
    "colab_type": "code",
    "id": "-1oyg0nYk6c7",
    "outputId": "65bb830e-fd82-4e45-e1f1-586664b9f2cc"
   },
   "outputs": [
    {
     "name": "stdout",
     "output_type": "stream",
     "text": [
      "/content/jupyter-playbooks\n"
     ]
    }
   ],
   "source": [
    "cd jupyter-playbooks"
   ]
  },
  {
   "cell_type": "markdown",
   "metadata": {
    "colab_type": "text",
    "id": "kzCWwuf8nfcO"
   },
   "source": [
    "# Git "
   ]
  },
  {
   "cell_type": "markdown",
   "metadata": {
    "colab_type": "text",
    "id": "tk8n_snjo80r"
   },
   "source": [
    "## Clone"
   ]
  },
  {
   "cell_type": "code",
   "execution_count": 13,
   "metadata": {
    "colab": {
     "base_uri": "https://localhost:8080/",
     "height": 107
    },
    "colab_type": "code",
    "id": "xOhmD30UkqQb",
    "outputId": "c8ff9bae-6aa3-4ecd-84a4-05280d5ca66c"
   },
   "outputs": [
    {
     "name": "stdout",
     "output_type": "stream",
     "text": [
      "Cloning into 'jupyter-playbooks'...\n",
      "remote: Counting objects: 27, done.\u001b[K\n",
      "remote: Compressing objects: 100% (25/25), done.\u001b[K\n",
      "remote: Total 27 (delta 12), reused 0 (delta 0), pack-reused 0\u001b[K\n",
      "Unpacking objects: 100% (27/27), done.\n"
     ]
    }
   ],
   "source": [
    "!git clone https://github.com/coleman-word/jupyter-playbooks.git"
   ]
  },
  {
   "cell_type": "markdown",
   "metadata": {
    "colab_type": "text",
    "id": "2LCXT7uyqMQz"
   },
   "source": [
    "## Pull"
   ]
  },
  {
   "cell_type": "code",
   "execution_count": 25,
   "metadata": {
    "colab": {
     "base_uri": "https://localhost:8080/",
     "height": 467
    },
    "colab_type": "code",
    "id": "sSZ2RMwAqNmS",
    "outputId": "2ba47bf6-ecc2-4ec1-c29d-822e8f8673a7"
   },
   "outputs": [
    {
     "name": "stdout",
     "output_type": "stream",
     "text": [
      "remote: Counting objects: 12, done.\u001b[K\r\n",
      "remote: Compressing objects:  20% (1/5)   \u001b[K\r",
      "remote: Compressing objects:  40% (2/5)   \u001b[K\r",
      "remote: Compressing objects:  60% (3/5)   \u001b[K\r",
      "remote: Compressing objects:  80% (4/5)   \u001b[K\r",
      "remote: Compressing objects: 100% (5/5)   \u001b[K\r",
      "remote: Compressing objects: 100% (5/5), done.\u001b[K\r\n",
      "remote: Total 12 (delta 1), reused 8 (delta 0), pack-reused 0\u001b[K\r\n",
      "Unpacking objects:   8% (1/12)   \r",
      "Unpacking objects:  16% (2/12)   \r",
      "Unpacking objects:  25% (3/12)   \r",
      "Unpacking objects:  33% (4/12)   \r",
      "Unpacking objects:  41% (5/12)   \r",
      "Unpacking objects:  50% (6/12)   \r",
      "Unpacking objects:  58% (7/12)   \r",
      "Unpacking objects:  66% (8/12)   \r",
      "Unpacking objects:  75% (9/12)   \r",
      "Unpacking objects:  83% (10/12)   \r",
      "Unpacking objects:  91% (11/12)   \r",
      "Unpacking objects: 100% (12/12)   \r",
      "Unpacking objects: 100% (12/12), done.\r\n",
      "From https://github.com/coleman-word/jupyter-playbooks\r\n",
      "   8cdaa92..59543fa  master     -> origin/master\n",
      "Updating 8cdaa92..59543fa\n",
      "Fast-forward\n",
      " ansible.ipynb => ansible/ansible.ipynb          |   0\n",
      " docker.ipynb => docker/docker.ipynb             |   0\n",
      " git.ipynb => git/git.ipynb                      |   0\n",
      " kubernetes.ipynb => kubernetes/kubernetes.ipynb |   0\n",
      " packer.ipynb => packer/packer.ipynb             |   0\n",
      " scripts.ipynb => scripts/scripts.ipynb          |   0\n",
      " terraform.ipynb                                 | 442 \u001b[31m-----------\u001b[m\n",
      " terraform/terraform.ipynb                       | 956 \u001b[32m++++++++++++++++++++++++\u001b[m\n",
      " 8 files changed, 956 insertions(+), 442 deletions(-)\n",
      " rename ansible.ipynb => ansible/ansible.ipynb (100%)\n",
      " rename docker.ipynb => docker/docker.ipynb (100%)\n",
      " rename git.ipynb => git/git.ipynb (100%)\n",
      " rename kubernetes.ipynb => kubernetes/kubernetes.ipynb (100%)\n",
      " rename packer.ipynb => packer/packer.ipynb (100%)\n",
      " rename scripts.ipynb => scripts/scripts.ipynb (100%)\n",
      " delete mode 100644 terraform.ipynb\n",
      " create mode 100644 terraform/terraform.ipynb\n"
     ]
    }
   ],
   "source": [
    "!git pull "
   ]
  },
  {
   "cell_type": "markdown",
   "metadata": {
    "colab_type": "text",
    "id": "CKiWYMmCo-jv"
   },
   "source": [
    "## Push"
   ]
  },
  {
   "cell_type": "code",
   "execution_count": 0,
   "metadata": {
    "colab": {},
    "colab_type": "code",
    "id": "EpwE5cTDn2HW"
   },
   "outputs": [],
   "source": [
    "%%bash\n",
    "git config --global user.email \"\"\n",
    "git config --global user.name \"\"\n",
    "git add -A\n",
    "git commit -m \"changes on colaboratory\"\n",
    "git push origin master"
   ]
  },
  {
   "cell_type": "markdown",
   "metadata": {
    "colab_type": "text",
    "id": "09hPQAJqjysG"
   },
   "source": [
    "# Files"
   ]
  },
  {
   "cell_type": "markdown",
   "metadata": {
    "colab_type": "text",
    "id": "I7JuBf9XmWvR"
   },
   "source": [
    "## variables.tf"
   ]
  },
  {
   "cell_type": "code",
   "execution_count": 8,
   "metadata": {
    "colab": {
     "base_uri": "https://localhost:8080/",
     "height": 35
    },
    "colab_type": "code",
    "id": "nmV34f97jvnc",
    "outputId": "6c2fdd48-1936-42e9-a4a7-e137de3510b4"
   },
   "outputs": [
    {
     "name": "stderr",
     "output_type": "stream",
     "text": [
      "ERROR:root:Internal Python error in the inspect module.\n",
      "Below is the traceback from this internal error.\n",
      "\n"
     ]
    },
    {
     "name": "stdout",
     "output_type": "stream",
     "text": [
      "Writing variables.tf\n",
      "Traceback (most recent call last):\n",
      "  File \"/home/coleman/.local/lib/python3.6/site-packages/IPython/core/interactiveshell.py\", line 2963, in run_code\n",
      "    exec(code_obj, self.user_global_ns, self.user_ns)\n",
      "  File \"<ipython-input-8-bbed407150cc>\", line 1, in <module>\n",
      "    get_ipython().run_cell_magic('writefile', 'variables.tf', 'variable \"AWS_ACCESS_KEY_ID\" {\\n  description = \"AWS Access Key\"\\n}\\n\\nvariable \"AWS_SECRET_ACCESS_KEY\" {\\n  description = \"AWS Secret Key\"\\n}\\n\\nvariable \"AWS_SSH_KEY_NAME\" {\\n  description = \"Name of the SSH keypair to use in AWS.\"\\n}\\n\\nvariable \"AWS_DEFAULT_REGION\" {\\n  description = \"AWS Region\"\\n}\\n\\n//General Cluster Settings\\n\\nvariable \"aws_cluster_name\" {\\n  description = \"Name of AWS Cluster\"\\n}\\n\\ndata \"aws_ami\" \"distro\" {\\n  most_recent = true\\n\\n  filter {\\n    name   = \"name\"\\n    values = [\"CoreOS-stable-*\"]\\n  }\\n\\n  filter {\\n    name   = \"virtualization-type\"\\n    values = [\"hvm\"]\\n  }\\n\\n  owners = [\"595879546273\"] #CoreOS\\n}\\n\\n//AWS VPC Variables\\n\\nvariable \"aws_vpc_cidr_block\" {\\n  description = \"CIDR Block for VPC\"\\n}\\n\\nvariable \"aws_cidr_subnets_private\" {\\n  description = \"CIDR Blocks for private subnets in Availability Zones\"\\n  type = \"list\"\\n}\\n\\nvariable \"aws_cidr_subnets_public\" {\\n  description = \"CIDR Blocks for public subnets in Availability Zones\"\\n  type = \"list\"\\n}\\n\\n//AWS EC2 Settings\\n\\nvariable \"aws_bastion_size\" {\\n    description = \"EC2 Instance Size of Bastion Host\"\\n}\\n\\n/*\\n* AWS EC2 Settings\\n* The number should be divisable by the number of used\\n* AWS Availability Zones without an remainder.\\n*/\\nvariable \"aws_kube_master_num\" {\\n    description = \"Number of Kubernetes Master Nodes\"\\n}\\n\\nvariable \"aws_kube_master_size\" {\\n    description = \"Instance size of Kube Master Nodes\"\\n}\\n\\nvariable \"aws_etcd_num\" {\\n    description = \"Number of etcd Nodes\"\\n}\\n\\nvariable \"aws_etcd_size\" {\\n    description = \"Instance size of etcd Nodes\"\\n}\\n\\nvariable \"aws_kube_worker_num\" {\\n    description = \"Number of Kubernetes Worker Nodes\"\\n}\\n\\nvariable \"aws_kube_worker_size\" {\\n    description = \"Instance size of Kubernetes Worker Nodes\"\\n}\\n\\n/*\\n* AWS ELB Settings\\n*\\n*/\\nvariable \"aws_elb_api_port\" {\\n    description = \"Port for AWS ELB\"\\n}\\n\\nvariable \"k8s_secure_api_port\" {\\n    description = \"Secure Port of K8S API Server\"\\n}\\n\\nvariable \"default_tags\" {\\n  description = \"Default tags for all resources\"\\n  type = \"map\"\\n}')\n",
      "  File \"/home/coleman/.local/lib/python3.6/site-packages/IPython/core/interactiveshell.py\", line 2167, in run_cell_magic\n",
      "    result = fn(magic_arg_s, cell)\n",
      "  File \"<decorator-gen-106>\", line 2, in writefile\n",
      "  File \"/home/coleman/.local/lib/python3.6/site-packages/IPython/core/magic.py\", line 187, in <lambda>\n",
      "    call = lambda f, *a, **k: f(*a, **k)\n",
      "  File \"/home/coleman/.local/lib/python3.6/site-packages/IPython/core/magics/osm.py\", line 791, in writefile\n",
      "    with io.open(filename, mode, encoding='utf-8') as f:\n",
      "FileNotFoundError: [Errno 2] No such file or directory: 'variables.tf'\n",
      "\n",
      "During handling of the above exception, another exception occurred:\n",
      "\n",
      "Traceback (most recent call last):\n",
      "  File \"/home/coleman/.local/lib/python3.6/site-packages/IPython/core/interactiveshell.py\", line 1863, in showtraceback\n",
      "    stb = value._render_traceback_()\n",
      "AttributeError: 'FileNotFoundError' object has no attribute '_render_traceback_'\n",
      "\n",
      "During handling of the above exception, another exception occurred:\n",
      "\n",
      "Traceback (most recent call last):\n",
      "  File \"/home/coleman/.local/lib/python3.6/site-packages/IPython/core/ultratb.py\", line 1095, in get_records\n",
      "    return _fixed_getinnerframes(etb, number_of_lines_of_context, tb_offset)\n",
      "  File \"/home/coleman/.local/lib/python3.6/site-packages/IPython/core/ultratb.py\", line 311, in wrapped\n",
      "    return f(*args, **kwargs)\n",
      "  File \"/home/coleman/.local/lib/python3.6/site-packages/IPython/core/ultratb.py\", line 345, in _fixed_getinnerframes\n",
      "    records = fix_frame_records_filenames(inspect.getinnerframes(etb, context))\n",
      "  File \"/usr/lib/python3.6/inspect.py\", line 1483, in getinnerframes\n",
      "    frameinfo = (tb.tb_frame,) + getframeinfo(tb, context)\n",
      "  File \"/usr/lib/python3.6/inspect.py\", line 1441, in getframeinfo\n",
      "    filename = getsourcefile(frame) or getfile(frame)\n",
      "  File \"/usr/lib/python3.6/inspect.py\", line 696, in getsourcefile\n",
      "    if getattr(getmodule(object, filename), '__loader__', None) is not None:\n",
      "  File \"/usr/lib/python3.6/inspect.py\", line 725, in getmodule\n",
      "    file = getabsfile(object, _filename)\n",
      "  File \"/usr/lib/python3.6/inspect.py\", line 709, in getabsfile\n",
      "    return os.path.normcase(os.path.abspath(_filename))\n",
      "  File \"/usr/lib/python3.6/posixpath.py\", line 376, in abspath\n",
      "    cwd = os.getcwd()\n",
      "FileNotFoundError: [Errno 2] No such file or directory\n"
     ]
    },
    {
     "ename": "FileNotFoundError",
     "evalue": "[Errno 2] No such file or directory: 'variables.tf'",
     "output_type": "error",
     "traceback": [
      "\u001b[0;31m---------------------------------------------------------------------------\u001b[0m"
     ]
    }
   ],
   "source": [
    "%%writefile variables.tf\n",
    "variable \"AWS_ACCESS_KEY_ID\" {\n",
    "  description = \"AWS Access Key\"\n",
    "}\n",
    "\n",
    "variable \"AWS_SECRET_ACCESS_KEY\" {\n",
    "  description = \"AWS Secret Key\"\n",
    "}\n",
    "\n",
    "variable \"AWS_SSH_KEY_NAME\" {\n",
    "  description = \"Name of the SSH keypair to use in AWS.\"\n",
    "}\n",
    "\n",
    "variable \"AWS_DEFAULT_REGION\" {\n",
    "  description = \"AWS Region\"\n",
    "}\n",
    "\n",
    "//General Cluster Settings\n",
    "\n",
    "variable \"aws_cluster_name\" {\n",
    "  description = \"Name of AWS Cluster\"\n",
    "}\n",
    "\n",
    "data \"aws_ami\" \"distro\" {\n",
    "  most_recent = true\n",
    "\n",
    "  filter {\n",
    "    name   = \"name\"\n",
    "    values = [\"CoreOS-stable-*\"]\n",
    "  }\n",
    "\n",
    "  filter {\n",
    "    name   = \"virtualization-type\"\n",
    "    values = [\"hvm\"]\n",
    "  }\n",
    "\n",
    "  owners = [\"595879546273\"] #CoreOS\n",
    "}\n",
    "\n",
    "//AWS VPC Variables\n",
    "\n",
    "variable \"aws_vpc_cidr_block\" {\n",
    "  description = \"CIDR Block for VPC\"\n",
    "}\n",
    "\n",
    "variable \"aws_cidr_subnets_private\" {\n",
    "  description = \"CIDR Blocks for private subnets in Availability Zones\"\n",
    "  type = \"list\"\n",
    "}\n",
    "\n",
    "variable \"aws_cidr_subnets_public\" {\n",
    "  description = \"CIDR Blocks for public subnets in Availability Zones\"\n",
    "  type = \"list\"\n",
    "}\n",
    "\n",
    "//AWS EC2 Settings\n",
    "\n",
    "variable \"aws_bastion_size\" {\n",
    "    description = \"EC2 Instance Size of Bastion Host\"\n",
    "}\n",
    "\n",
    "/*\n",
    "* AWS EC2 Settings\n",
    "* The number should be divisable by the number of used\n",
    "* AWS Availability Zones without an remainder.\n",
    "*/\n",
    "variable \"aws_kube_master_num\" {\n",
    "    description = \"Number of Kubernetes Master Nodes\"\n",
    "}\n",
    "\n",
    "variable \"aws_kube_master_size\" {\n",
    "    description = \"Instance size of Kube Master Nodes\"\n",
    "}\n",
    "\n",
    "variable \"aws_etcd_num\" {\n",
    "    description = \"Number of etcd Nodes\"\n",
    "}\n",
    "\n",
    "variable \"aws_etcd_size\" {\n",
    "    description = \"Instance size of etcd Nodes\"\n",
    "}\n",
    "\n",
    "variable \"aws_kube_worker_num\" {\n",
    "    description = \"Number of Kubernetes Worker Nodes\"\n",
    "}\n",
    "\n",
    "variable \"aws_kube_worker_size\" {\n",
    "    description = \"Instance size of Kubernetes Worker Nodes\"\n",
    "}\n",
    "\n",
    "/*\n",
    "* AWS ELB Settings\n",
    "*\n",
    "*/\n",
    "variable \"aws_elb_api_port\" {\n",
    "    description = \"Port for AWS ELB\"\n",
    "}\n",
    "\n",
    "variable \"k8s_secure_api_port\" {\n",
    "    description = \"Secure Port of K8S API Server\"\n",
    "}\n",
    "\n",
    "variable \"default_tags\" {\n",
    "  description = \"Default tags for all resources\"\n",
    "  type = \"map\"\n",
    "}"
   ]
  },
  {
   "cell_type": "markdown",
   "metadata": {
    "colab_type": "text",
    "id": "n2XRSD1QmRyv"
   },
   "source": [
    "## terraform.tfvars"
   ]
  },
  {
   "cell_type": "code",
   "execution_count": 9,
   "metadata": {
    "colab": {
     "base_uri": "https://localhost:8080/",
     "height": 35
    },
    "colab_type": "code",
    "id": "FjbgK-7xlKW7",
    "outputId": "01cc7524-59aa-4453-b1b0-97904621035c"
   },
   "outputs": [
    {
     "name": "stderr",
     "output_type": "stream",
     "text": [
      "ERROR:root:Internal Python error in the inspect module.\n",
      "Below is the traceback from this internal error.\n",
      "\n"
     ]
    },
    {
     "name": "stdout",
     "output_type": "stream",
     "text": [
      "Writing terraform.tfvars\n",
      "Traceback (most recent call last):\n",
      "  File \"/home/coleman/.local/lib/python3.6/site-packages/IPython/core/interactiveshell.py\", line 2963, in run_code\n",
      "    exec(code_obj, self.user_global_ns, self.user_ns)\n",
      "  File \"<ipython-input-9-19c55c6b42a7>\", line 1, in <module>\n",
      "    get_ipython().run_cell_magic('writefile', 'terraform.tfvars', '#Global Vars\\naws_cluster_name = \"devtest\"\\n\\n#VPC Vars\\naws_vpc_cidr_block = \"10.250.192.0/18\"\\naws_cidr_subnets_private = [\"10.250.192.0/20\",\"10.250.208.0/20\"]\\naws_cidr_subnets_public = [\"10.250.224.0/20\",\"10.250.240.0/20\"]\\naws_avail_zones = [\"us-east-1a\",\"us-east-1b\"]\\n\\n#Bastion Host\\naws_bastion_ami = \"ami-5900cc36\"\\naws_bastion_size = \"t2.micro\"\\n\\n\\n#Kubernetes Cluster\\n\\naws_kube_master_num = 3\\naws_kube_master_size = \"t2.micro\"\\n\\naws_etcd_num = 3\\naws_etcd_size = \"t2.micro\"\\n\\naws_kube_worker_num = 4\\naws_kube_worker_size = \"t2.micro\"\\n\\naws_cluster_ami = \"ami-903df7ff\"\\n\\n#Settings AWS ELB\\n\\naws_elb_api_port = 6443\\nk8s_secure_api_port = 6443\\nkube_insecure_apiserver_address = 0.0.0.0')\n",
      "  File \"/home/coleman/.local/lib/python3.6/site-packages/IPython/core/interactiveshell.py\", line 2167, in run_cell_magic\n",
      "    result = fn(magic_arg_s, cell)\n",
      "  File \"<decorator-gen-106>\", line 2, in writefile\n",
      "  File \"/home/coleman/.local/lib/python3.6/site-packages/IPython/core/magic.py\", line 187, in <lambda>\n",
      "    call = lambda f, *a, **k: f(*a, **k)\n",
      "  File \"/home/coleman/.local/lib/python3.6/site-packages/IPython/core/magics/osm.py\", line 791, in writefile\n",
      "    with io.open(filename, mode, encoding='utf-8') as f:\n",
      "FileNotFoundError: [Errno 2] No such file or directory: 'terraform.tfvars'\n",
      "\n",
      "During handling of the above exception, another exception occurred:\n",
      "\n",
      "Traceback (most recent call last):\n",
      "  File \"/home/coleman/.local/lib/python3.6/site-packages/IPython/core/interactiveshell.py\", line 1863, in showtraceback\n",
      "    stb = value._render_traceback_()\n",
      "AttributeError: 'FileNotFoundError' object has no attribute '_render_traceback_'\n",
      "\n",
      "During handling of the above exception, another exception occurred:\n",
      "\n",
      "Traceback (most recent call last):\n",
      "  File \"/home/coleman/.local/lib/python3.6/site-packages/IPython/core/ultratb.py\", line 1095, in get_records\n",
      "    return _fixed_getinnerframes(etb, number_of_lines_of_context, tb_offset)\n",
      "  File \"/home/coleman/.local/lib/python3.6/site-packages/IPython/core/ultratb.py\", line 311, in wrapped\n",
      "    return f(*args, **kwargs)\n",
      "  File \"/home/coleman/.local/lib/python3.6/site-packages/IPython/core/ultratb.py\", line 345, in _fixed_getinnerframes\n",
      "    records = fix_frame_records_filenames(inspect.getinnerframes(etb, context))\n",
      "  File \"/usr/lib/python3.6/inspect.py\", line 1483, in getinnerframes\n",
      "    frameinfo = (tb.tb_frame,) + getframeinfo(tb, context)\n",
      "  File \"/usr/lib/python3.6/inspect.py\", line 1441, in getframeinfo\n",
      "    filename = getsourcefile(frame) or getfile(frame)\n",
      "  File \"/usr/lib/python3.6/inspect.py\", line 696, in getsourcefile\n",
      "    if getattr(getmodule(object, filename), '__loader__', None) is not None:\n",
      "  File \"/usr/lib/python3.6/inspect.py\", line 725, in getmodule\n",
      "    file = getabsfile(object, _filename)\n",
      "  File \"/usr/lib/python3.6/inspect.py\", line 709, in getabsfile\n",
      "    return os.path.normcase(os.path.abspath(_filename))\n",
      "  File \"/usr/lib/python3.6/posixpath.py\", line 376, in abspath\n",
      "    cwd = os.getcwd()\n",
      "FileNotFoundError: [Errno 2] No such file or directory\n"
     ]
    },
    {
     "ename": "FileNotFoundError",
     "evalue": "[Errno 2] No such file or directory: 'terraform.tfvars'",
     "output_type": "error",
     "traceback": [
      "\u001b[0;31m---------------------------------------------------------------------------\u001b[0m"
     ]
    }
   ],
   "source": [
    "%%writefile terraform.tfvars\n",
    "#Global Vars\n",
    "aws_cluster_name = \"devtest\"\n",
    "\n",
    "#VPC Vars\n",
    "aws_vpc_cidr_block = \"10.250.192.0/18\"\n",
    "aws_cidr_subnets_private = [\"10.250.192.0/20\",\"10.250.208.0/20\"]\n",
    "aws_cidr_subnets_public = [\"10.250.224.0/20\",\"10.250.240.0/20\"]\n",
    "aws_avail_zones = [\"us-east-1a\",\"us-east-1b\"]\n",
    "\n",
    "#Bastion Host\n",
    "aws_bastion_ami = \"ami-5900cc36\"\n",
    "aws_bastion_size = \"t2.micro\"\n",
    "\n",
    "\n",
    "#Kubernetes Cluster\n",
    "\n",
    "aws_kube_master_num = 3\n",
    "aws_kube_master_size = \"t2.micro\"\n",
    "\n",
    "aws_etcd_num = 3\n",
    "aws_etcd_size = \"t2.micro\"\n",
    "\n",
    "aws_kube_worker_num = 4\n",
    "aws_kube_worker_size = \"t2.micro\"\n",
    "\n",
    "aws_cluster_ami = \"ami-903df7ff\"\n",
    "\n",
    "#Settings AWS ELB\n",
    "\n",
    "aws_elb_api_port = 6443\n",
    "k8s_secure_api_port = 6443\n",
    "kube_insecure_apiserver_address = 0.0.0.0"
   ]
  },
  {
   "cell_type": "markdown",
   "metadata": {
    "colab_type": "text",
    "id": "MhVuyAQMmI6l"
   },
   "source": [
    "## credentials.tfvars"
   ]
  },
  {
   "cell_type": "code",
   "execution_count": 10,
   "metadata": {
    "colab": {
     "base_uri": "https://localhost:8080/",
     "height": 35
    },
    "colab_type": "code",
    "id": "3hfexnVsl6cV",
    "outputId": "84154ef7-483e-4660-e09e-486dd0dab3b9"
   },
   "outputs": [
    {
     "name": "stderr",
     "output_type": "stream",
     "text": [
      "ERROR:root:Internal Python error in the inspect module.\n",
      "Below is the traceback from this internal error.\n",
      "\n"
     ]
    },
    {
     "name": "stdout",
     "output_type": "stream",
     "text": [
      "Writing credentials.tfvars\n",
      "Traceback (most recent call last):\n",
      "  File \"/home/coleman/.local/lib/python3.6/site-packages/IPython/core/interactiveshell.py\", line 2963, in run_code\n",
      "    exec(code_obj, self.user_global_ns, self.user_ns)\n",
      "  File \"<ipython-input-10-0fd2beadc251>\", line 1, in <module>\n",
      "    get_ipython().run_cell_magic('writefile', 'credentials.tfvars', '#AWS Access Key\\nAWS_ACCESS_KEY_ID = \"\"\\n#AWS Secret Key\\nAWS_SECRET_ACCESS_KEY = \"\"\\n#EC2 SSH Key Name\\nAWS_SSH_KEY_NAME = \"\"\\n#AWS Region\\nAWS_DEFAULT_REGION = \"us-east-1\"')\n",
      "  File \"/home/coleman/.local/lib/python3.6/site-packages/IPython/core/interactiveshell.py\", line 2167, in run_cell_magic\n",
      "    result = fn(magic_arg_s, cell)\n",
      "  File \"<decorator-gen-106>\", line 2, in writefile\n",
      "  File \"/home/coleman/.local/lib/python3.6/site-packages/IPython/core/magic.py\", line 187, in <lambda>\n",
      "    call = lambda f, *a, **k: f(*a, **k)\n",
      "  File \"/home/coleman/.local/lib/python3.6/site-packages/IPython/core/magics/osm.py\", line 791, in writefile\n",
      "    with io.open(filename, mode, encoding='utf-8') as f:\n",
      "FileNotFoundError: [Errno 2] No such file or directory: 'credentials.tfvars'\n",
      "\n",
      "During handling of the above exception, another exception occurred:\n",
      "\n",
      "Traceback (most recent call last):\n",
      "  File \"/home/coleman/.local/lib/python3.6/site-packages/IPython/core/interactiveshell.py\", line 1863, in showtraceback\n",
      "    stb = value._render_traceback_()\n",
      "AttributeError: 'FileNotFoundError' object has no attribute '_render_traceback_'\n",
      "\n",
      "During handling of the above exception, another exception occurred:\n",
      "\n",
      "Traceback (most recent call last):\n",
      "  File \"/home/coleman/.local/lib/python3.6/site-packages/IPython/core/ultratb.py\", line 1095, in get_records\n",
      "    return _fixed_getinnerframes(etb, number_of_lines_of_context, tb_offset)\n",
      "  File \"/home/coleman/.local/lib/python3.6/site-packages/IPython/core/ultratb.py\", line 311, in wrapped\n",
      "    return f(*args, **kwargs)\n",
      "  File \"/home/coleman/.local/lib/python3.6/site-packages/IPython/core/ultratb.py\", line 345, in _fixed_getinnerframes\n",
      "    records = fix_frame_records_filenames(inspect.getinnerframes(etb, context))\n",
      "  File \"/usr/lib/python3.6/inspect.py\", line 1483, in getinnerframes\n",
      "    frameinfo = (tb.tb_frame,) + getframeinfo(tb, context)\n",
      "  File \"/usr/lib/python3.6/inspect.py\", line 1441, in getframeinfo\n",
      "    filename = getsourcefile(frame) or getfile(frame)\n",
      "  File \"/usr/lib/python3.6/inspect.py\", line 696, in getsourcefile\n",
      "    if getattr(getmodule(object, filename), '__loader__', None) is not None:\n",
      "  File \"/usr/lib/python3.6/inspect.py\", line 725, in getmodule\n",
      "    file = getabsfile(object, _filename)\n",
      "  File \"/usr/lib/python3.6/inspect.py\", line 709, in getabsfile\n",
      "    return os.path.normcase(os.path.abspath(_filename))\n",
      "  File \"/usr/lib/python3.6/posixpath.py\", line 376, in abspath\n",
      "    cwd = os.getcwd()\n",
      "FileNotFoundError: [Errno 2] No such file or directory\n"
     ]
    },
    {
     "ename": "FileNotFoundError",
     "evalue": "[Errno 2] No such file or directory: 'credentials.tfvars'",
     "output_type": "error",
     "traceback": [
      "\u001b[0;31m---------------------------------------------------------------------------\u001b[0m"
     ]
    }
   ],
   "source": [
    "%%writefile credentials.tfvars\n",
    "#AWS Access Key\n",
    "AWS_ACCESS_KEY_ID = \"\"\n",
    "#AWS Secret Key\n",
    "AWS_SECRET_ACCESS_KEY = \"\"\n",
    "#EC2 SSH Key Name\n",
    "AWS_SSH_KEY_NAME = \"\"\n",
    "#AWS Region\n",
    "AWS_DEFAULT_REGION = \"us-east-1\""
   ]
  },
  {
   "cell_type": "markdown",
   "metadata": {
    "colab_type": "text",
    "id": "WT-XdY3imkhv"
   },
   "source": [
    "## create-infrastructure.tf"
   ]
  },
  {
   "cell_type": "code",
   "execution_count": 11,
   "metadata": {
    "colab": {
     "base_uri": "https://localhost:8080/",
     "height": 35
    },
    "colab_type": "code",
    "id": "nx0Xs1mzmIII",
    "outputId": "9c78d048-4528-4fa1-f03e-90cd9ae77cfb"
   },
   "outputs": [
    {
     "name": "stderr",
     "output_type": "stream",
     "text": [
      "ERROR:root:Internal Python error in the inspect module.\n",
      "Below is the traceback from this internal error.\n",
      "\n"
     ]
    },
    {
     "name": "stdout",
     "output_type": "stream",
     "text": [
      "Writing create-infrastructure.tf\n",
      "Traceback (most recent call last):\n",
      "  File \"/home/coleman/.local/lib/python3.6/site-packages/IPython/core/interactiveshell.py\", line 2963, in run_code\n",
      "    exec(code_obj, self.user_global_ns, self.user_ns)\n",
      "  File \"<ipython-input-11-b4c1c47cb1f2>\", line 1, in <module>\n",
      "    get_ipython().run_cell_magic('writefile', 'create-infrastructure.tf', 'terraform {\\n    required_version = \">= 0.8.7\"\\n}\\n\\nprovider \"aws\" {\\n    access_key = \"${var.AWS_ACCESS_KEY_ID}\"\\n    secret_key = \"${var.AWS_SECRET_ACCESS_KEY}\"\\n    region = \"${var.AWS_DEFAULT_REGION}\"\\n}\\n\\ndata \"aws_availability_zones\" \"available\" {}\\n\\n/*\\n* Calling modules who create the initial AWS VPC / AWS ELB\\n* and AWS IAM Roles for Kubernetes Deployment\\n*/\\n\\nmodule \"aws-vpc\" {\\n  source = \"modules/vpc\"\\n\\n  aws_cluster_name = \"${var.aws_cluster_name}\"\\n  aws_vpc_cidr_block = \"${var.aws_vpc_cidr_block}\"\\n  aws_avail_zones=\"${slice(data.aws_availability_zones.available.names,0,2)}\"\\n  aws_cidr_subnets_private=\"${var.aws_cidr_subnets_private}\"\\n  aws_cidr_subnets_public=\"${var.aws_cidr_subnets_public}\"\\n  default_tags=\"${var.default_tags}\"\\n\\n}\\n\\n\\nmodule \"aws-elb\" {\\n  source = \"modules/elb\"\\n\\n  aws_cluster_name=\"${var.aws_cluster_name}\"\\n  aws_vpc_id=\"${module.aws-vpc.aws_vpc_id}\"\\n  aws_avail_zones=\"${slice(data.aws_availability_zones.available.names,0,2)}\"\\n  aws_subnet_ids_public=\"${module.aws-vpc.aws_subnet_ids_public}\"\\n  aws_elb_api_port = \"${var.aws_elb_api_port}\"\\n  k8s_secure_api_port = \"${var.k8s_secure_api_port}\"\\n  default_tags=\"${var.default_tags}\"\\n\\n}\\n\\nmodule \"aws-iam\" {\\n  source = \"modules/iam\"\\n\\n  aws_cluster_name=\"${var.aws_cluster_name}\"\\n}\\n\\n/*\\n* Create Bastion Instances in AWS\\n*\\n*/\\n\\nresource \"aws_instance\" \"bastion-server\" {\\n    ami = \"${data.aws_ami.distro.id}\"\\n    instance_type = \"${var.aws_bastion_size}\"\\n    count = \"${length(var.aws_cidr_subnets_public)}\"\\n    associate_public_ip_address = true\\n    availability_zone  = \"${element(slice(data.aws_availability_zones.available.names,0,2),count.index)}\"\\n    subnet_id = \"${element(module.aws-vpc.aws_subnet_ids_public,count.index)}\"\\n\\n\\n    vpc_security_group_ids = [ \"${module.aws-vpc.aws_security_group}\" ]\\n\\n    key_name = \"${var.AWS_SSH_KEY_NAME}\"\\n\\n    tags = \"${merge(var.default_tags, map(\\n      \"Name\", \"kubernetes-${var.aws_cluster_name}-bastion-${count.index}\",\\n      \"Cluster\", \"${var.aws_cluster_name}\",\\n      \"Role\", \"bastion-${var.aws_cluster_name}-${count.index}\"\\n    ))}\"\\n}\\n\\n\\n/*\\n* Create K8s Master and worker nodes and etcd instances\\n*\\n*/\\n\\nresource \"aws_instance\" \"k8s-master\" {\\n    ami = \"${data.aws_ami.distro.id}\"\\n    instance_type = \"${var.aws_kube_master_size}\"\\n\\n    count = \"${var.aws_kube_master_num}\"\\n\\n\\n    availability_zone  = \"${element(slice(data.aws_availability_zones.available.names,0,2),count.index)}\"\\n    subnet_id = \"${element(module.aws-vpc.aws_subnet_ids_private,count.index)}\"\\n\\n\\n    vpc_security_group_ids = [ \"${module.aws-vpc.aws_security_group}\" ]\\n\\n\\n    iam_instance_profile = \"${module.aws-iam.kube-master-profile}\"\\n    key_name = \"${var.AWS_SSH_KEY_NAME}\"\\n\\n\\n    tags = \"${merge(var.default_tags, map(\\n      \"Name\", \"kubernetes-${var.aws_cluster_name}-master${count.index}\",\\n      \"kubernetes.io/cluster/${var.aws_cluster_name}\", \"member\",\\n      \"Role\", \"master\"\\n    ))}\"\\n}\\n\\nresource \"aws_elb_attachment\" \"attach_master_nodes\" {\\n  count = \"${var.aws_kube_master_num}\"\\n  elb      = \"${module.aws-elb.aws_elb_api_id}\"\\n  instance = \"${element(aws_instance.k8s-master.*.id,count.index)}\"\\n}\\n\\n\\nresource \"aws_instance\" \"k8s-etcd\" {\\n    ami = \"${data.aws_ami.distro.id}\"\\n    instance_type = \"${var.aws_etcd_size}\"\\n\\n    count = \"${var.aws_etcd_num}\"\\n\\n\\n    availability_zone = \"${element(slice(data.aws_availability_zones.available.names,0,2),count.index)}\"\\n    subnet_id = \"${element(module.aws-vpc.aws_subnet_ids_private,count.index)}\"\\n\\n\\n    vpc_security_group_ids = [ \"${module.aws-vpc.aws_security_group}\" ]\\n\\n    key_name = \"${var.AWS_SSH_KEY_NAME}\"\\n\\n    tags = \"${merge(var.default_tags, map(\\n      \"Name\", \"kubernetes-${var.aws_cluster_name}-etcd${count.index}\",\\n      \"kubernetes.io/cluster/${var.aws_cluster_name}\", \"member\",\\n      \"Role\", \"etcd\"\\n    ))}\"\\n\\n}\\n\\n\\nresource \"aws_instance\" \"k8s-worker\" {\\n    ami = \"${data.aws_ami.distro.id}\"\\n    instance_type = \"${var.aws_kube_worker_size}\"\\n\\n    count = \"${var.aws_kube_worker_num}\"\\n\\n    availability_zone  = \"${element(slice(data.aws_availability_zones.available.names,0,2),count.index)}\"\\n    subnet_id = \"${element(module.aws-vpc.aws_subnet_ids_private,count.index)}\"\\n\\n    vpc_security_group_ids = [ \"${module.aws-vpc.aws_security_group}\" ]\\n\\n    iam_instance_profile = \"${module.aws-iam.kube-worker-profile}\"\\n    key_name = \"${var.AWS_SSH_KEY_NAME}\"\\n\\n\\n    tags = \"${merge(var.default_tags, map(\\n      \"Name\", \"kubernetes-${var.aws_cluster_name}-worker${count.index}\",\\n      \"kubernetes.io/cluster/${var.aws_cluster_name}\", \"member\",\\n      \"Role\", \"worker\"\\n    ))}\"\\n\\n}\\n\\n\\n\\n/*\\n* Create Kubespray Inventory File\\n*\\n*/\\ndata \"template_file\" \"inventory\" {\\n    template = \"${file(\"${path.module}/templates/inventory.tpl\")}\"\\n\\n    vars {\\n        public_ip_address_bastion = \"${join(\"\\\\n\",formatlist(\"bastion ansible_host=%s\" , aws_instance.bastion-server.*.public_ip))}\"\\n        connection_strings_master = \"${join(\"\\\\n\",formatlist(\"%s ansible_host=%s\",aws_instance.k8s-master.*.tags.Name, aws_instance.k8s-master.*.private_ip))}\"\\n        connection_strings_node = \"${join(\"\\\\n\", formatlist(\"%s ansible_host=%s\", aws_instance.k8s-worker.*.tags.Name, aws_instance.k8s-worker.*.private_ip))}\"\\n        connection_strings_etcd = \"${join(\"\\\\n\",formatlist(\"%s ansible_host=%s\", aws_instance.k8s-etcd.*.tags.Name, aws_instance.k8s-etcd.*.private_ip))}\"\\n        list_master = \"${join(\"\\\\n\",aws_instance.k8s-master.*.tags.Name)}\"\\n        list_node = \"${join(\"\\\\n\",aws_instance.k8s-worker.*.tags.Name)}\"\\n        list_etcd = \"${join(\"\\\\n\",aws_instance.k8s-etcd.*.tags.Name)}\"\\n        elb_api_fqdn = \"apiserver_loadbalancer_domain_name=\\\\\"${module.aws-elb.aws_elb_api_fqdn}\\\\\"\"\\n    }\\n\\n}\\n\\nresource \"null_resource\" \"inventories\" {\\n  provisioner \"local-exec\" {\\n      command = \"echo \\'${data.template_file.inventory.rendered}\\' > ../../../inventory/hosts\"\\n  }\\n\\n  triggers {\\n      template = \"${data.template_file.inventory.rendered}\"\\n  }\\n\\n}')\n",
      "  File \"/home/coleman/.local/lib/python3.6/site-packages/IPython/core/interactiveshell.py\", line 2167, in run_cell_magic\n",
      "    result = fn(magic_arg_s, cell)\n",
      "  File \"<decorator-gen-106>\", line 2, in writefile\n",
      "  File \"/home/coleman/.local/lib/python3.6/site-packages/IPython/core/magic.py\", line 187, in <lambda>\n",
      "    call = lambda f, *a, **k: f(*a, **k)\n",
      "  File \"/home/coleman/.local/lib/python3.6/site-packages/IPython/core/magics/osm.py\", line 791, in writefile\n",
      "    with io.open(filename, mode, encoding='utf-8') as f:\n",
      "FileNotFoundError: [Errno 2] No such file or directory: 'create-infrastructure.tf'\n",
      "\n",
      "During handling of the above exception, another exception occurred:\n",
      "\n",
      "Traceback (most recent call last):\n",
      "  File \"/home/coleman/.local/lib/python3.6/site-packages/IPython/core/interactiveshell.py\", line 1863, in showtraceback\n",
      "    stb = value._render_traceback_()\n",
      "AttributeError: 'FileNotFoundError' object has no attribute '_render_traceback_'\n",
      "\n",
      "During handling of the above exception, another exception occurred:\n",
      "\n",
      "Traceback (most recent call last):\n",
      "  File \"/home/coleman/.local/lib/python3.6/site-packages/IPython/core/ultratb.py\", line 1095, in get_records\n",
      "    return _fixed_getinnerframes(etb, number_of_lines_of_context, tb_offset)\n",
      "  File \"/home/coleman/.local/lib/python3.6/site-packages/IPython/core/ultratb.py\", line 311, in wrapped\n",
      "    return f(*args, **kwargs)\n",
      "  File \"/home/coleman/.local/lib/python3.6/site-packages/IPython/core/ultratb.py\", line 345, in _fixed_getinnerframes\n",
      "    records = fix_frame_records_filenames(inspect.getinnerframes(etb, context))\n",
      "  File \"/usr/lib/python3.6/inspect.py\", line 1483, in getinnerframes\n",
      "    frameinfo = (tb.tb_frame,) + getframeinfo(tb, context)\n",
      "  File \"/usr/lib/python3.6/inspect.py\", line 1441, in getframeinfo\n",
      "    filename = getsourcefile(frame) or getfile(frame)\n",
      "  File \"/usr/lib/python3.6/inspect.py\", line 696, in getsourcefile\n",
      "    if getattr(getmodule(object, filename), '__loader__', None) is not None:\n",
      "  File \"/usr/lib/python3.6/inspect.py\", line 725, in getmodule\n",
      "    file = getabsfile(object, _filename)\n",
      "  File \"/usr/lib/python3.6/inspect.py\", line 709, in getabsfile\n",
      "    return os.path.normcase(os.path.abspath(_filename))\n",
      "  File \"/usr/lib/python3.6/posixpath.py\", line 376, in abspath\n",
      "    cwd = os.getcwd()\n",
      "FileNotFoundError: [Errno 2] No such file or directory\n"
     ]
    },
    {
     "ename": "FileNotFoundError",
     "evalue": "[Errno 2] No such file or directory: 'create-infrastructure.tf'",
     "output_type": "error",
     "traceback": [
      "\u001b[0;31m---------------------------------------------------------------------------\u001b[0m"
     ]
    }
   ],
   "source": [
    "%%writefile create-infrastructure.tf\n",
    "terraform {\n",
    "    required_version = \">= 0.8.7\"\n",
    "}\n",
    "\n",
    "provider \"aws\" {\n",
    "    access_key = \"${var.AWS_ACCESS_KEY_ID}\"\n",
    "    secret_key = \"${var.AWS_SECRET_ACCESS_KEY}\"\n",
    "    region = \"${var.AWS_DEFAULT_REGION}\"\n",
    "}\n",
    "\n",
    "data \"aws_availability_zones\" \"available\" {}\n",
    "\n",
    "/*\n",
    "* Calling modules who create the initial AWS VPC / AWS ELB\n",
    "* and AWS IAM Roles for Kubernetes Deployment\n",
    "*/\n",
    "\n",
    "module \"aws-vpc\" {\n",
    "  source = \"modules/vpc\"\n",
    "\n",
    "  aws_cluster_name = \"${var.aws_cluster_name}\"\n",
    "  aws_vpc_cidr_block = \"${var.aws_vpc_cidr_block}\"\n",
    "  aws_avail_zones=\"${slice(data.aws_availability_zones.available.names,0,2)}\"\n",
    "  aws_cidr_subnets_private=\"${var.aws_cidr_subnets_private}\"\n",
    "  aws_cidr_subnets_public=\"${var.aws_cidr_subnets_public}\"\n",
    "  default_tags=\"${var.default_tags}\"\n",
    "\n",
    "}\n",
    "\n",
    "\n",
    "module \"aws-elb\" {\n",
    "  source = \"modules/elb\"\n",
    "\n",
    "  aws_cluster_name=\"${var.aws_cluster_name}\"\n",
    "  aws_vpc_id=\"${module.aws-vpc.aws_vpc_id}\"\n",
    "  aws_avail_zones=\"${slice(data.aws_availability_zones.available.names,0,2)}\"\n",
    "  aws_subnet_ids_public=\"${module.aws-vpc.aws_subnet_ids_public}\"\n",
    "  aws_elb_api_port = \"${var.aws_elb_api_port}\"\n",
    "  k8s_secure_api_port = \"${var.k8s_secure_api_port}\"\n",
    "  default_tags=\"${var.default_tags}\"\n",
    "\n",
    "}\n",
    "\n",
    "module \"aws-iam\" {\n",
    "  source = \"modules/iam\"\n",
    "\n",
    "  aws_cluster_name=\"${var.aws_cluster_name}\"\n",
    "}\n",
    "\n",
    "/*\n",
    "* Create Bastion Instances in AWS\n",
    "*\n",
    "*/\n",
    "\n",
    "resource \"aws_instance\" \"bastion-server\" {\n",
    "    ami = \"${data.aws_ami.distro.id}\"\n",
    "    instance_type = \"${var.aws_bastion_size}\"\n",
    "    count = \"${length(var.aws_cidr_subnets_public)}\"\n",
    "    associate_public_ip_address = true\n",
    "    availability_zone  = \"${element(slice(data.aws_availability_zones.available.names,0,2),count.index)}\"\n",
    "    subnet_id = \"${element(module.aws-vpc.aws_subnet_ids_public,count.index)}\"\n",
    "\n",
    "\n",
    "    vpc_security_group_ids = [ \"${module.aws-vpc.aws_security_group}\" ]\n",
    "\n",
    "    key_name = \"${var.AWS_SSH_KEY_NAME}\"\n",
    "\n",
    "    tags = \"${merge(var.default_tags, map(\n",
    "      \"Name\", \"kubernetes-${var.aws_cluster_name}-bastion-${count.index}\",\n",
    "      \"Cluster\", \"${var.aws_cluster_name}\",\n",
    "      \"Role\", \"bastion-${var.aws_cluster_name}-${count.index}\"\n",
    "    ))}\"\n",
    "}\n",
    "\n",
    "\n",
    "/*\n",
    "* Create K8s Master and worker nodes and etcd instances\n",
    "*\n",
    "*/\n",
    "\n",
    "resource \"aws_instance\" \"k8s-master\" {\n",
    "    ami = \"${data.aws_ami.distro.id}\"\n",
    "    instance_type = \"${var.aws_kube_master_size}\"\n",
    "\n",
    "    count = \"${var.aws_kube_master_num}\"\n",
    "\n",
    "\n",
    "    availability_zone  = \"${element(slice(data.aws_availability_zones.available.names,0,2),count.index)}\"\n",
    "    subnet_id = \"${element(module.aws-vpc.aws_subnet_ids_private,count.index)}\"\n",
    "\n",
    "\n",
    "    vpc_security_group_ids = [ \"${module.aws-vpc.aws_security_group}\" ]\n",
    "\n",
    "\n",
    "    iam_instance_profile = \"${module.aws-iam.kube-master-profile}\"\n",
    "    key_name = \"${var.AWS_SSH_KEY_NAME}\"\n",
    "\n",
    "\n",
    "    tags = \"${merge(var.default_tags, map(\n",
    "      \"Name\", \"kubernetes-${var.aws_cluster_name}-master${count.index}\",\n",
    "      \"kubernetes.io/cluster/${var.aws_cluster_name}\", \"member\",\n",
    "      \"Role\", \"master\"\n",
    "    ))}\"\n",
    "}\n",
    "\n",
    "resource \"aws_elb_attachment\" \"attach_master_nodes\" {\n",
    "  count = \"${var.aws_kube_master_num}\"\n",
    "  elb      = \"${module.aws-elb.aws_elb_api_id}\"\n",
    "  instance = \"${element(aws_instance.k8s-master.*.id,count.index)}\"\n",
    "}\n",
    "\n",
    "\n",
    "resource \"aws_instance\" \"k8s-etcd\" {\n",
    "    ami = \"${data.aws_ami.distro.id}\"\n",
    "    instance_type = \"${var.aws_etcd_size}\"\n",
    "\n",
    "    count = \"${var.aws_etcd_num}\"\n",
    "\n",
    "\n",
    "    availability_zone = \"${element(slice(data.aws_availability_zones.available.names,0,2),count.index)}\"\n",
    "    subnet_id = \"${element(module.aws-vpc.aws_subnet_ids_private,count.index)}\"\n",
    "\n",
    "\n",
    "    vpc_security_group_ids = [ \"${module.aws-vpc.aws_security_group}\" ]\n",
    "\n",
    "    key_name = \"${var.AWS_SSH_KEY_NAME}\"\n",
    "\n",
    "    tags = \"${merge(var.default_tags, map(\n",
    "      \"Name\", \"kubernetes-${var.aws_cluster_name}-etcd${count.index}\",\n",
    "      \"kubernetes.io/cluster/${var.aws_cluster_name}\", \"member\",\n",
    "      \"Role\", \"etcd\"\n",
    "    ))}\"\n",
    "\n",
    "}\n",
    "\n",
    "\n",
    "resource \"aws_instance\" \"k8s-worker\" {\n",
    "    ami = \"${data.aws_ami.distro.id}\"\n",
    "    instance_type = \"${var.aws_kube_worker_size}\"\n",
    "\n",
    "    count = \"${var.aws_kube_worker_num}\"\n",
    "\n",
    "    availability_zone  = \"${element(slice(data.aws_availability_zones.available.names,0,2),count.index)}\"\n",
    "    subnet_id = \"${element(module.aws-vpc.aws_subnet_ids_private,count.index)}\"\n",
    "\n",
    "    vpc_security_group_ids = [ \"${module.aws-vpc.aws_security_group}\" ]\n",
    "\n",
    "    iam_instance_profile = \"${module.aws-iam.kube-worker-profile}\"\n",
    "    key_name = \"${var.AWS_SSH_KEY_NAME}\"\n",
    "\n",
    "\n",
    "    tags = \"${merge(var.default_tags, map(\n",
    "      \"Name\", \"kubernetes-${var.aws_cluster_name}-worker${count.index}\",\n",
    "      \"kubernetes.io/cluster/${var.aws_cluster_name}\", \"member\",\n",
    "      \"Role\", \"worker\"\n",
    "    ))}\"\n",
    "\n",
    "}\n",
    "\n",
    "\n",
    "\n",
    "/*\n",
    "* Create Kubespray Inventory File\n",
    "*\n",
    "*/\n",
    "data \"template_file\" \"inventory\" {\n",
    "    template = \"${file(\"${path.module}/templates/inventory.tpl\")}\"\n",
    "\n",
    "    vars {\n",
    "        public_ip_address_bastion = \"${join(\"\\n\",formatlist(\"bastion ansible_host=%s\" , aws_instance.bastion-server.*.public_ip))}\"\n",
    "        connection_strings_master = \"${join(\"\\n\",formatlist(\"%s ansible_host=%s\",aws_instance.k8s-master.*.tags.Name, aws_instance.k8s-master.*.private_ip))}\"\n",
    "        connection_strings_node = \"${join(\"\\n\", formatlist(\"%s ansible_host=%s\", aws_instance.k8s-worker.*.tags.Name, aws_instance.k8s-worker.*.private_ip))}\"\n",
    "        connection_strings_etcd = \"${join(\"\\n\",formatlist(\"%s ansible_host=%s\", aws_instance.k8s-etcd.*.tags.Name, aws_instance.k8s-etcd.*.private_ip))}\"\n",
    "        list_master = \"${join(\"\\n\",aws_instance.k8s-master.*.tags.Name)}\"\n",
    "        list_node = \"${join(\"\\n\",aws_instance.k8s-worker.*.tags.Name)}\"\n",
    "        list_etcd = \"${join(\"\\n\",aws_instance.k8s-etcd.*.tags.Name)}\"\n",
    "        elb_api_fqdn = \"apiserver_loadbalancer_domain_name=\\\"${module.aws-elb.aws_elb_api_fqdn}\\\"\"\n",
    "    }\n",
    "\n",
    "}\n",
    "\n",
    "resource \"null_resource\" \"inventories\" {\n",
    "  provisioner \"local-exec\" {\n",
    "      command = \"echo '${data.template_file.inventory.rendered}' > ../../../inventory/hosts\"\n",
    "  }\n",
    "\n",
    "  triggers {\n",
    "      template = \"${data.template_file.inventory.rendered}\"\n",
    "  }\n",
    "\n",
    "}"
   ]
  },
  {
   "cell_type": "markdown",
   "metadata": {
    "colab_type": "text",
    "id": "peyV_TPHnRPc"
   },
   "source": [
    "## inventory.tpl"
   ]
  },
  {
   "cell_type": "code",
   "execution_count": 0,
   "metadata": {
    "colab": {},
    "colab_type": "code",
    "id": "K8FNQcw_nD7U"
   },
   "outputs": [],
   "source": [
    "%%writefile inventory.tpl\n",
    "[all]\n",
    "${connection_strings_master}\n",
    "${connection_strings_node}\n",
    "${connection_strings_etcd}\n",
    "\n",
    "\n",
    "${public_ip_address_bastion}\n",
    "\n",
    "[kube-master]\n",
    "${list_master}\n",
    "\n",
    "\n",
    "[kube-node]\n",
    "${list_node}\n",
    "\n",
    "\n",
    "[etcd]\n",
    "${list_etcd}\n",
    "\n",
    "\n",
    "[k8s-cluster:children]\n",
    "kube-node\n",
    "kube-master\n",
    "\n",
    "\n",
    "[k8s-cluster:vars]\n",
    "${elb_api_fqdn}"
   ]
  },
  {
   "cell_type": "markdown",
   "metadata": {
    "colab_type": "text",
    "id": "umEUlNidpIwS"
   },
   "source": [
    "# Modules"
   ]
  },
  {
   "cell_type": "markdown",
   "metadata": {
    "colab_type": "text",
    "id": "miAYpTpkpO1i"
   },
   "source": [
    "## Elastic Load Balancer"
   ]
  },
  {
   "cell_type": "markdown",
   "metadata": {
    "colab_type": "text",
    "id": "om1_tZSspUNe"
   },
   "source": [
    "## Virtual Private Cloud"
   ]
  },
  {
   "cell_type": "markdown",
   "metadata": {
    "colab_type": "text",
    "id": "rSRbmcMdpWU0"
   },
   "source": [
    "## IAM"
   ]
  }
 ],
 "metadata": {
  "colab": {
   "collapsed_sections": [],
   "name": "terraform.ipynb",
   "provenance": [],
   "version": "0.3.2"
  },
  "kernelspec": {
   "display_name": "Python 3",
   "language": "python",
   "name": "python3"
  },
  "language_info": {
   "codemirror_mode": {
    "name": "ipython",
    "version": 3
   },
   "file_extension": ".py",
   "mimetype": "text/x-python",
   "name": "python",
   "nbconvert_exporter": "python",
   "pygments_lexer": "ipython3",
   "version": "3.6.5"
  }
 },
 "nbformat": 4,
 "nbformat_minor": 1
}
