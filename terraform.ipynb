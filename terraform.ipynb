{
  "nbformat": 4,
  "nbformat_minor": 0,
  "metadata": {
    "colab": {
      "name": "terraform.ipynb",
      "version": "0.3.2",
      "provenance": [],
      "collapsed_sections": []
    },
    "kernelspec": {
      "name": "python3",
      "display_name": "Python 3"
    }
  },
  "cells": [
    {
      "cell_type": "markdown",
      "metadata": {
        "id": "view-in-github",
        "colab_type": "text"
      },
      "source": [
        "[View in Colaboratory](https://colab.research.google.com/github/coleman-word/jupyter-playbooks/blob/master/terraform.ipynb)"
      ]
    },
    {
      "metadata": {
        "id": "0FG5YUgsjj5a",
        "colab_type": "text"
      },
      "cell_type": "markdown",
      "source": [
        "# Installation"
      ]
    },
    {
      "metadata": {
        "id": "NbaokOUsg8nR",
        "colab_type": "code",
        "colab": {
          "base_uri": "https://localhost:8080/",
          "height": 235
        },
        "outputId": "87e75d11-bf61-498e-d773-36e8ade10fb6"
      },
      "cell_type": "code",
      "source": [
        "!wget https://releases.hashicorp.com/terraform/0.11.7/terraform_0.11.7_linux_amd64.zip"
      ],
      "execution_count": 1,
      "outputs": [
        {
          "output_type": "stream",
          "text": [
            "--2018-06-16 03:01:47--  https://releases.hashicorp.com/terraform/0.11.7/terraform_0.11.7_linux_amd64.zip\n",
            "Resolving releases.hashicorp.com (releases.hashicorp.com)... 151.101.1.183, 151.101.65.183, 151.101.129.183, ...\n",
            "Connecting to releases.hashicorp.com (releases.hashicorp.com)|151.101.1.183|:443... connected.\n",
            "HTTP request sent, awaiting response... 200 OK\n",
            "Length: 16490308 (16M) [application/zip]\n",
            "Saving to: ‘terraform_0.11.7_linux_amd64.zip’\n",
            "\n",
            "terraform_0.11.7_li 100%[===================>]  15.73M  31.3MB/s    in 0.5s    \n",
            "\n",
            "2018-06-16 03:01:47 (31.3 MB/s) - ‘terraform_0.11.7_linux_amd64.zip’ saved [16490308/16490308]\n",
            "\n"
          ],
          "name": "stdout"
        }
      ]
    },
    {
      "metadata": {
        "id": "CXbH59zwjoP5",
        "colab_type": "text"
      },
      "cell_type": "markdown",
      "source": [
        "## Unzip"
      ]
    },
    {
      "metadata": {
        "id": "2sSXPgU6ipSL",
        "colab_type": "code",
        "colab": {
          "base_uri": "https://localhost:8080/",
          "height": 53
        },
        "outputId": "acd5a801-bf00-47c8-95a8-c4b65d5df2e3"
      },
      "cell_type": "code",
      "source": [
        "!unzip terraform_0.11.7_linux_amd64.zip -d /usr/local/bin"
      ],
      "execution_count": 5,
      "outputs": [
        {
          "output_type": "stream",
          "text": [
            "Archive:  terraform_0.11.7_linux_amd64.zip\n",
            "  inflating: /usr/local/bin/terraform  \n"
          ],
          "name": "stdout"
        }
      ]
    },
    {
      "metadata": {
        "id": "nIp6aFOujrTn",
        "colab_type": "text"
      },
      "cell_type": "markdown",
      "source": [
        "## Check CLI"
      ]
    },
    {
      "metadata": {
        "id": "5kdLVoZQjb4G",
        "colab_type": "code",
        "colab": {
          "base_uri": "https://localhost:8080/",
          "height": 629
        },
        "outputId": "c2bb5cde-02c4-461e-aaaa-bc018de1bfa3"
      },
      "cell_type": "code",
      "source": [
        "!terraform"
      ],
      "execution_count": 6,
      "outputs": [
        {
          "output_type": "stream",
          "text": [
            "Usage: terraform [--version] [--help] <command> [args]\r\n",
            "\r\n",
            "The available commands for execution are listed below.\r\n",
            "The most common, useful commands are shown first, followed by\r\n",
            "less common or more advanced commands. If you're just getting\r\n",
            "started with Terraform, stick with the common commands. For the\r\n",
            "other commands, please read the help and docs before usage.\r\n",
            "\r\n",
            "Common commands:\r\n",
            "    apply              Builds or changes infrastructure\r\n",
            "    console            Interactive console for Terraform interpolations\r\n",
            "    destroy            Destroy Terraform-managed infrastructure\r\n",
            "    env                Workspace management\r\n",
            "    fmt                Rewrites config files to canonical format\r\n",
            "    get                Download and install modules for the configuration\r\n",
            "    graph              Create a visual graph of Terraform resources\r\n",
            "    import             Import existing infrastructure into Terraform\r\n",
            "    init               Initialize a Terraform working directory\r\n",
            "    output             Read an output from a state file\r\n",
            "    plan               Generate and show an execution plan\r\n",
            "    providers          Prints a tree of the providers used in the configuration\r\n",
            "    push               Upload this Terraform module to Atlas to run\r\n",
            "    refresh            Update local state file against real resources\r\n",
            "    show               Inspect Terraform state or plan\r\n",
            "    taint              Manually mark a resource for recreation\r\n",
            "    untaint            Manually unmark a resource as tainted\r\n",
            "    validate           Validates the Terraform files\r\n",
            "    version            Prints the Terraform version\r\n",
            "    workspace          Workspace management\r\n",
            "\r\n",
            "All other commands:\r\n",
            "    debug              Debug output management (experimental)\r\n",
            "    force-unlock       Manually unlock the terraform state\r\n",
            "    state              Advanced state management\r\n"
          ],
          "name": "stdout"
        }
      ]
    },
    {
      "metadata": {
        "id": "sGXrqXM4j7HX",
        "colab_type": "text"
      },
      "cell_type": "markdown",
      "source": [
        "# Configuration"
      ]
    },
    {
      "metadata": {
        "id": "TOhd9DuEj6a4",
        "colab_type": "code",
        "colab": {
          "base_uri": "https://localhost:8080/",
          "height": 451
        },
        "outputId": "6073f760-664d-41e7-bbfc-dfb53ba6896f"
      },
      "cell_type": "code",
      "source": [
        "!pip install awscli --upgrade"
      ],
      "execution_count": 8,
      "outputs": [
        {
          "output_type": "stream",
          "text": [
            "Collecting awscli\n",
            "\u001b[?25l  Downloading https://files.pythonhosted.org/packages/b3/0e/8b55f31cbe931cf2f59f85f1c6a2a2ba47933ae9c4778339f5628d46224d/awscli-1.15.40-py2.py3-none-any.whl (1.3MB)\n",
            "\u001b[K    100% |████████████████████████████████| 1.3MB 4.4MB/s \n",
            "\u001b[?25hRequirement not upgraded as not directly required: rsa<=3.5.0,>=3.1.2 in /usr/local/lib/python3.6/dist-packages (from awscli) (3.4.2)\n",
            "Collecting s3transfer<0.2.0,>=0.1.12 (from awscli)\n",
            "\u001b[?25l  Downloading https://files.pythonhosted.org/packages/d7/14/2a0004d487464d120c9fb85313a75cd3d71a7506955be458eebfe19a6b1d/s3transfer-0.1.13-py2.py3-none-any.whl (59kB)\n",
            "\u001b[K    100% |████████████████████████████████| 61kB 12.8MB/s \n",
            "\u001b[?25hCollecting docutils>=0.10 (from awscli)\n",
            "\u001b[?25l  Downloading https://files.pythonhosted.org/packages/36/fa/08e9e6e0e3cbd1d362c3bbee8d01d0aedb2155c4ac112b19ef3cae8eed8d/docutils-0.14-py3-none-any.whl (543kB)\n",
            "\u001b[K    100% |████████████████████████████████| 552kB 10.4MB/s \n",
            "\u001b[?25hRequirement not upgraded as not directly required: PyYAML<=3.12,>=3.10 in /usr/local/lib/python3.6/dist-packages (from awscli) (3.12)\n",
            "Collecting botocore==1.10.40 (from awscli)\n",
            "\u001b[?25l  Downloading https://files.pythonhosted.org/packages/fe/6f/e9c3981f8b7e93bfa4461b754563b0e917968947920d0bdcf2a7dcf77da2/botocore-1.10.40-py2.py3-none-any.whl (4.3MB)\n",
            "\u001b[K    100% |████████████████████████████████| 4.3MB 7.3MB/s \n",
            "\u001b[?25hCollecting colorama<=0.3.9,>=0.2.5 (from awscli)\n",
            "  Downloading https://files.pythonhosted.org/packages/db/c8/7dcf9dbcb22429512708fe3a547f8b6101c0d02137acbd892505aee57adf/colorama-0.3.9-py2.py3-none-any.whl\n",
            "Requirement not upgraded as not directly required: pyasn1>=0.1.3 in /usr/local/lib/python3.6/dist-packages (from rsa<=3.5.0,>=3.1.2->awscli) (0.4.2)\n",
            "Requirement not upgraded as not directly required: python-dateutil<3.0.0,>=2.1; python_version >= \"2.7\" in /usr/local/lib/python3.6/dist-packages (from botocore==1.10.40->awscli) (2.5.3)\n",
            "Collecting jmespath<1.0.0,>=0.7.1 (from botocore==1.10.40->awscli)\n",
            "  Downloading https://files.pythonhosted.org/packages/b7/31/05c8d001f7f87f0f07289a5fc0fc3832e9a57f2dbd4d3b0fee70e0d51365/jmespath-0.9.3-py2.py3-none-any.whl\n",
            "Requirement not upgraded as not directly required: six>=1.5 in /usr/local/lib/python3.6/dist-packages (from python-dateutil<3.0.0,>=2.1; python_version >= \"2.7\"->botocore==1.10.40->awscli) (1.11.0)\n",
            "Installing collected packages: docutils, jmespath, botocore, s3transfer, colorama, awscli\n",
            "Successfully installed awscli-1.15.40 botocore-1.10.40 colorama-0.3.9 docutils-0.14 jmespath-0.9.3 s3transfer-0.1.13\n"
          ],
          "name": "stdout"
        }
      ]
    },
    {
      "metadata": {
        "id": "nHEk4T6AkFXT",
        "colab_type": "code",
        "colab": {
          "base_uri": "https://localhost:8080/",
          "height": 53
        },
        "outputId": "67a9db1d-cbea-4f16-970a-e296fae63a81"
      },
      "cell_type": "code",
      "source": [
        "!aws configure "
      ],
      "execution_count": 10,
      "outputs": [
        {
          "output_type": "stream",
          "text": [
            "AWS Access Key ID [None]: ^C\n",
            "\n"
          ],
          "name": "stdout"
        }
      ]
    },
    {
      "metadata": {
        "id": "xOhmD30UkqQb",
        "colab_type": "code",
        "colab": {
          "base_uri": "https://localhost:8080/",
          "height": 107
        },
        "outputId": "c8ff9bae-6aa3-4ecd-84a4-05280d5ca66c"
      },
      "cell_type": "code",
      "source": [
        "!git clone https://github.com/coleman-word/jupyter-playbooks.git"
      ],
      "execution_count": 13,
      "outputs": [
        {
          "output_type": "stream",
          "text": [
            "Cloning into 'jupyter-playbooks'...\n",
            "remote: Counting objects: 27, done.\u001b[K\n",
            "remote: Compressing objects: 100% (25/25), done.\u001b[K\n",
            "remote: Total 27 (delta 12), reused 0 (delta 0), pack-reused 0\u001b[K\n",
            "Unpacking objects: 100% (27/27), done.\n"
          ],
          "name": "stdout"
        }
      ]
    },
    {
      "metadata": {
        "id": "-1oyg0nYk6c7",
        "colab_type": "code",
        "colab": {
          "base_uri": "https://localhost:8080/",
          "height": 35
        },
        "outputId": "65bb830e-fd82-4e45-e1f1-586664b9f2cc"
      },
      "cell_type": "code",
      "source": [
        "cd jupyter-playbooks"
      ],
      "execution_count": 14,
      "outputs": [
        {
          "output_type": "stream",
          "text": [
            "/content/jupyter-playbooks\n"
          ],
          "name": "stdout"
        }
      ]
    },
    {
      "metadata": {
        "id": "09hPQAJqjysG",
        "colab_type": "text"
      },
      "cell_type": "markdown",
      "source": [
        "# Template"
      ]
    },
    {
      "metadata": {
        "id": "nmV34f97jvnc",
        "colab_type": "code",
        "colab": {}
      },
      "cell_type": "code",
      "source": [
        "%%writefile variables.tf\n",
        "variable \"AWS_ACCESS_KEY_ID\" {\n",
        "  description = \"AWS Access Key\"\n",
        "}\n",
        "\n",
        "variable \"AWS_SECRET_ACCESS_KEY\" {\n",
        "  description = \"AWS Secret Key\"\n",
        "}\n",
        "\n",
        "variable \"AWS_SSH_KEY_NAME\" {\n",
        "  description = \"Name of the SSH keypair to use in AWS.\"\n",
        "}\n",
        "\n",
        "variable \"AWS_DEFAULT_REGION\" {\n",
        "  description = \"AWS Region\"\n",
        "}\n",
        "\n",
        "//General Cluster Settings\n",
        "\n",
        "variable \"aws_cluster_name\" {\n",
        "  description = \"Name of AWS Cluster\"\n",
        "}\n",
        "\n",
        "data \"aws_ami\" \"distro\" {\n",
        "  most_recent = true\n",
        "\n",
        "  filter {\n",
        "    name   = \"name\"\n",
        "    values = [\"CoreOS-stable-*\"]\n",
        "  }\n",
        "\n",
        "  filter {\n",
        "    name   = \"virtualization-type\"\n",
        "    values = [\"hvm\"]\n",
        "  }\n",
        "\n",
        "  owners = [\"595879546273\"] #CoreOS\n",
        "}\n",
        "\n",
        "//AWS VPC Variables\n",
        "\n",
        "variable \"aws_vpc_cidr_block\" {\n",
        "  description = \"CIDR Block for VPC\"\n",
        "}\n",
        "\n",
        "variable \"aws_cidr_subnets_private\" {\n",
        "  description = \"CIDR Blocks for private subnets in Availability Zones\"\n",
        "  type = \"list\"\n",
        "}\n",
        "\n",
        "variable \"aws_cidr_subnets_public\" {\n",
        "  description = \"CIDR Blocks for public subnets in Availability Zones\"\n",
        "  type = \"list\"\n",
        "}\n",
        "\n",
        "//AWS EC2 Settings\n",
        "\n",
        "variable \"aws_bastion_size\" {\n",
        "    description = \"EC2 Instance Size of Bastion Host\"\n",
        "}\n",
        "\n",
        "/*\n",
        "* AWS EC2 Settings\n",
        "* The number should be divisable by the number of used\n",
        "* AWS Availability Zones without an remainder.\n",
        "*/\n",
        "variable \"aws_kube_master_num\" {\n",
        "    description = \"Number of Kubernetes Master Nodes\"\n",
        "}\n",
        "\n",
        "variable \"aws_kube_master_size\" {\n",
        "    description = \"Instance size of Kube Master Nodes\"\n",
        "}\n",
        "\n",
        "variable \"aws_etcd_num\" {\n",
        "    description = \"Number of etcd Nodes\"\n",
        "}\n",
        "\n",
        "variable \"aws_etcd_size\" {\n",
        "    description = \"Instance size of etcd Nodes\"\n",
        "}\n",
        "\n",
        "variable \"aws_kube_worker_num\" {\n",
        "    description = \"Number of Kubernetes Worker Nodes\"\n",
        "}\n",
        "\n",
        "variable \"aws_kube_worker_size\" {\n",
        "    description = \"Instance size of Kubernetes Worker Nodes\"\n",
        "}\n",
        "\n",
        "/*\n",
        "* AWS ELB Settings\n",
        "*\n",
        "*/\n",
        "variable \"aws_elb_api_port\" {\n",
        "    description = \"Port for AWS ELB\"\n",
        "}\n",
        "\n",
        "variable \"k8s_secure_api_port\" {\n",
        "    description = \"Secure Port of K8S API Server\"\n",
        "}\n",
        "\n",
        "variable \"default_tags\" {\n",
        "  description = \"Default tags for all resources\"\n",
        "  type = \"map\"\n",
        "}"
      ],
      "execution_count": 0,
      "outputs": []
    }
  ]
}